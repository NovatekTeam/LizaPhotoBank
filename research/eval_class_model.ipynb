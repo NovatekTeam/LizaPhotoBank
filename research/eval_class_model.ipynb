{
 "cells": [
  {
   "cell_type": "code",
   "execution_count": 3,
   "metadata": {},
   "outputs": [
    {
     "name": "stderr",
     "output_type": "stream",
     "text": [
      "/home/savin/.local/lib/python3.8/site-packages/tqdm/auto.py:22: TqdmWarning: IProgress not found. Please update jupyter and ipywidgets. See https://ipywidgets.readthedocs.io/en/stable/user_install.html\n",
      "  from .autonotebook import tqdm as notebook_tqdm\n"
     ]
    }
   ],
   "source": [
    "import sys\n",
    "sys.path.insert(0, \"..\")\n",
    "from DataModule import DataModule\n",
    "import numpy as np\n",
    "from glob import glob\n",
    "import os\n",
    "import tritonclient.grpc as grpcclient\n",
    "from tritonclient.utils import *\n",
    "from glob import glob\n",
    "from tqdm import tqdm\n",
    "import PIL.Image as Image\n",
    "import io\n",
    "import pandas as pd"
   ]
  },
  {
   "cell_type": "code",
   "execution_count": 4,
   "metadata": {},
   "outputs": [
    {
     "name": "stderr",
     "output_type": "stream",
     "text": [
      "/tmp/ipykernel_2135622/2483044803.py:8: VisibleDeprecationWarning: Creating an ndarray from ragged nested sequences (which is a list-or-tuple of lists-or-tuples-or ndarrays with different lengths or shapes) is deprecated. If you meant to do this, you must specify 'dtype=object' when creating the ndarray.\n",
      "  batch_files = np.asarray(batch_files)\n"
     ]
    }
   ],
   "source": [
    "folder = '/home/savin/Documents/liza/valid_daily'\n",
    "files = os.listdir(folder)\n",
    "batch_files = []\n",
    "for file in files:\n",
    "    file = os.path.join(folder, file)\n",
    "    image_data = np.fromfile(file, dtype='uint8')\n",
    "    batch_files.append(image_data)\n",
    "batch_files = np.asarray(batch_files)"
   ]
  },
  {
   "cell_type": "code",
   "execution_count": 5,
   "metadata": {},
   "outputs": [],
   "source": [
    "def chunked(data, num):\n",
    "    lst = []\n",
    "    for i in range(0, len(data), num):\n",
    "        lst.append(data[i:i+num])\n",
    "    return lst"
   ]
  },
  {
   "cell_type": "code",
   "execution_count": 6,
   "metadata": {},
   "outputs": [
    {
     "data": {
      "text/plain": [
       "(8, 1, 800, 800)"
      ]
     },
     "execution_count": 6,
     "metadata": {},
     "output_type": "execute_result"
    }
   ],
   "source": [
    "import torchvision.transforms as transforms\n",
    "import torch\n",
    "loader = transforms.Compose([\n",
    "    transforms.ToTensor(),\n",
    "    transforms.Grayscale(num_output_channels=1),\n",
    "    # transforms.Lambda(lambda image: torch.from_numpy(np.array(image).astype(np.float32))),\n",
    "    transforms.Resize((800,800)),\n",
    "    transforms.Normalize(0.5,0.5)\n",
    "])\n",
    "\n",
    "batch_out = []\n",
    "for img in batch_files:  # img is shape (1,)\n",
    "    pil_img = Image.open(io.BytesIO(img.tobytes())).convert('RGB')\n",
    "    np_tensor = loader(pil_img).numpy()\n",
    "    batch_out.append(np_tensor)\n",
    "batch_out = np.asarray(batch_out)\n",
    "batch_out.shape"
   ]
  },
  {
   "cell_type": "code",
   "execution_count": 7,
   "metadata": {},
   "outputs": [],
   "source": [
    "n = 4\n",
    "iter_batch = chunked(batch_out, n)"
   ]
  },
  {
   "cell_type": "code",
   "execution_count": 8,
   "metadata": {},
   "outputs": [],
   "source": [
    "import onnx\n",
    "import onnxruntime as ort\n",
    "\n",
    "model_daily = '/home/savin/Documents/liza/model_daily.onnx'\n",
    "model_season = '/home/savin/Documents/liza/model_season.onnx'\n",
    "model_location = '/home/savin/Documents/liza/model_location.onnx'"
   ]
  },
  {
   "cell_type": "code",
   "execution_count": 9,
   "metadata": {},
   "outputs": [],
   "source": [
    "data_set = pd.DataFrame()\n",
    "for batch in iter_batch:    \n",
    "    iter_set = pd.DataFrame()\n",
    "    session = ort.InferenceSession(model_daily)\n",
    "    input_name = session.get_inputs()[0].name\n",
    "    pred_daily = session.run(None, {input_name: batch})\n",
    "    out_daily = []\n",
    "    for el in pred_daily[0]:\n",
    "        if el[0] > el[1] and el[0] > el[2] and el[0] > 1:\n",
    "            out_daily.append(1)\n",
    "        elif el[1] > el[2] and el[1] > el[0] and el[1] > 1:\n",
    "            out_daily.append(2)\n",
    "        elif el[2] > el[0] and el[2] > el[1] and el[2] > 1:\n",
    "            out_daily.append(3)\n",
    "        else:\n",
    "            out_daily.append(0)\n",
    "    \n",
    "    session = ort.InferenceSession(model_season)\n",
    "    input_name = session.get_inputs()[0].name\n",
    "    pred_season = session.run(None, {input_name: batch})\n",
    "    out_season = []\n",
    "    for el in pred_season[0]:\n",
    "        if el[0] > el[1] and el[0] > el[2] and el[0] > el[3] and el[0] > 1:\n",
    "            out_season.append(4)\n",
    "        elif el[1] > el[0] and el[1] > el[1] and el[1] > el[3] and el[1] > 1:\n",
    "            out_season.append(2)\n",
    "        elif el[2] > el[0] and el[2] > el[1] and el[2] > el[3] and el[2] > 1:\n",
    "            out_season.append(3)\n",
    "        elif el[3] > el[0] and el[3] > el[1] and el[3] > el[2] and el[3] > 1:\n",
    "            out_season.append(1)\n",
    "        else:\n",
    "            out_season.append(0)\n",
    "    \n",
    "    session = ort.InferenceSession(model_location)\n",
    "    input_name = session.get_inputs()[0].name\n",
    "    pred_location = session.run(None, {input_name: batch})\n",
    "    out_location = []\n",
    "    for el in pred_location[0]:\n",
    "        if el[0] > el[1] and el[0] > 1:\n",
    "            out_location.append(2)\n",
    "        elif el[1] > el[0] and el[1] > 1:\n",
    "            out_location.append(1)\n",
    "        else:\n",
    "            out_location.append(0)\n",
    "    iter_set = pd.concat([pd.DataFrame(out_daily, columns=['daily']), \n",
    "                          pd.DataFrame(out_season, columns=['season']), \n",
    "                          pd.DataFrame(out_location, columns=['location'])], axis=1)\n",
    "    data_set = pd.concat([data_set, iter_set], ignore_index=True)"
   ]
  },
  {
   "cell_type": "code",
   "execution_count": 10,
   "metadata": {},
   "outputs": [
    {
     "data": {
      "text/html": [
       "<div>\n",
       "<style scoped>\n",
       "    .dataframe tbody tr th:only-of-type {\n",
       "        vertical-align: middle;\n",
       "    }\n",
       "\n",
       "    .dataframe tbody tr th {\n",
       "        vertical-align: top;\n",
       "    }\n",
       "\n",
       "    .dataframe thead th {\n",
       "        text-align: right;\n",
       "    }\n",
       "</style>\n",
       "<table border=\"1\" class=\"dataframe\">\n",
       "  <thead>\n",
       "    <tr style=\"text-align: right;\">\n",
       "      <th></th>\n",
       "      <th>file_name</th>\n",
       "      <th>daily</th>\n",
       "      <th>season</th>\n",
       "      <th>location</th>\n",
       "    </tr>\n",
       "  </thead>\n",
       "  <tbody>\n",
       "    <tr>\n",
       "      <th>0</th>\n",
       "      <td>night_2.jpg</td>\n",
       "      <td>2</td>\n",
       "      <td>3</td>\n",
       "      <td>1</td>\n",
       "    </tr>\n",
       "    <tr>\n",
       "      <th>1</th>\n",
       "      <td>morning_1.jpg</td>\n",
       "      <td>3</td>\n",
       "      <td>3</td>\n",
       "      <td>1</td>\n",
       "    </tr>\n",
       "    <tr>\n",
       "      <th>2</th>\n",
       "      <td>down_1.jpg</td>\n",
       "      <td>1</td>\n",
       "      <td>0</td>\n",
       "      <td>0</td>\n",
       "    </tr>\n",
       "    <tr>\n",
       "      <th>3</th>\n",
       "      <td>day_1.jpg</td>\n",
       "      <td>1</td>\n",
       "      <td>0</td>\n",
       "      <td>1</td>\n",
       "    </tr>\n",
       "    <tr>\n",
       "      <th>4</th>\n",
       "      <td>night_1.jpg</td>\n",
       "      <td>0</td>\n",
       "      <td>3</td>\n",
       "      <td>0</td>\n",
       "    </tr>\n",
       "    <tr>\n",
       "      <th>5</th>\n",
       "      <td>day_2.jpg</td>\n",
       "      <td>1</td>\n",
       "      <td>0</td>\n",
       "      <td>1</td>\n",
       "    </tr>\n",
       "    <tr>\n",
       "      <th>6</th>\n",
       "      <td>down_2.jpg</td>\n",
       "      <td>0</td>\n",
       "      <td>0</td>\n",
       "      <td>0</td>\n",
       "    </tr>\n",
       "    <tr>\n",
       "      <th>7</th>\n",
       "      <td>morning_2.jpg</td>\n",
       "      <td>3</td>\n",
       "      <td>1</td>\n",
       "      <td>1</td>\n",
       "    </tr>\n",
       "  </tbody>\n",
       "</table>\n",
       "</div>"
      ],
      "text/plain": [
       "       file_name  daily  season  location\n",
       "0    night_2.jpg      2       3         1\n",
       "1  morning_1.jpg      3       3         1\n",
       "2     down_1.jpg      1       0         0\n",
       "3      day_1.jpg      1       0         1\n",
       "4    night_1.jpg      0       3         0\n",
       "5      day_2.jpg      1       0         1\n",
       "6     down_2.jpg      0       0         0\n",
       "7  morning_2.jpg      3       1         1"
      ]
     },
     "execution_count": 10,
     "metadata": {},
     "output_type": "execute_result"
    }
   ],
   "source": [
    "pg_set = pd.concat([pd.DataFrame(files, columns=['file_name']), data_set], axis=1)\n",
    "pg_set"
   ]
  }
 ],
 "metadata": {
  "interpreter": {
   "hash": "916dbcbb3f70747c44a77c7bcd40155683ae19c65e1c03b4aa3499c5328201f1"
  },
  "kernelspec": {
   "display_name": "Python 3.8.10 64-bit",
   "language": "python",
   "name": "python3"
  },
  "language_info": {
   "codemirror_mode": {
    "name": "ipython",
    "version": 3
   },
   "file_extension": ".py",
   "mimetype": "text/x-python",
   "name": "python",
   "nbconvert_exporter": "python",
   "pygments_lexer": "ipython3",
   "version": "3.8.10"
  },
  "orig_nbformat": 4
 },
 "nbformat": 4,
 "nbformat_minor": 2
}
