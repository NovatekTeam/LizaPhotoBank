{
 "cells": [
  {
   "cell_type": "markdown",
   "metadata": {},
   "source": [
    "### CVAT download dataset"
   ]
  },
  {
   "cell_type": "code",
   "execution_count": 7,
   "metadata": {},
   "outputs": [],
   "source": [
    "import mlflow\n",
    "import os\n",
    "import pandas as pd\n",
    "import requests\n",
    "import shutil\n",
    "import sys\n",
    "import hashlib\n",
    "sys.path.insert(0, \"..\")\n",
    "from zipfile import ZipFile\n",
    "\n",
    "from datetime import datetime\n",
    "from glob import glob\n",
    "from io import BytesIO\n",
    "from pathlib import Path\n",
    "from pytorch_lightning import  Trainer\n"
   ]
  },
  {
   "cell_type": "code",
   "execution_count": 3,
   "metadata": {},
   "outputs": [],
   "source": [
    "URL = 'http://10.72.125.105:8080'\n",
    "API_URL = '%s/api/v1' % URL\n",
    "LOGIN = 'ml'\n",
    "PASSWORD = 'NuAzu8mO'\n",
    "PROJECT = 'Liza'\n",
    "\n",
    "def get_session(url, username, password):\n",
    "    session = requests.Session()\n",
    "    response=session.post(url, data={'username':username,'password':password})\n",
    "    response.raise_for_status()\n",
    "    if 'csrftoken' in response.cookies:\n",
    "        session.headers['X-CSRFToken'] = response.cookies['csrftoken']\n",
    "    return session\n",
    "\n",
    "def get_request(self, method, query=None):\n",
    "    url = \"%s/%s\" % (API_URL,method)\n",
    "    if ~(query is None):\n",
    "        url+='?%s'%query\n",
    "    request = self.get(url)\n",
    "    if request.headers['Content-Type'] == 'application/json':\n",
    "        return request.json()\n",
    "    else:\n",
    "        return request"
   ]
  },
  {
   "cell_type": "code",
   "execution_count": 4,
   "metadata": {},
   "outputs": [],
   "source": [
    "url = '%s/auth/login' % API_URL\n",
    "session = get_session(url, LOGIN, PASSWORD)\n",
    "projects = get_request(session,'projects','?search=%s' % (PROJECT))\n",
    "project= projects['results'][0]"
   ]
  },
  {
   "cell_type": "code",
   "execution_count": 59,
   "metadata": {},
   "outputs": [],
   "source": [
    "def makePath(path):\n",
    "    if path.exists() and path.is_dir():\n",
    "        shutil.rmtree(path)\n",
    "    os.mkdir(path)"
   ]
  },
  {
   "cell_type": "code",
   "execution_count": 61,
   "metadata": {},
   "outputs": [],
   "source": [
    "dir_path = Path(os.path.join('..','tmp'))\n",
    "train_path = Path(os.path.join('..','dataset','objects'))\n",
    "\n",
    "makePath(dir_path)\n",
    "makePath(train_path)\n",
    "\n",
    "for task in project['tasks']:\n",
    "    task_id = task['id']\n",
    "    chunk_size = task['data_chunk_size']\n",
    "    annotations = get_request(session,'tasks/%s/annotations' % (task_id))\n",
    "    shapes = pd.DataFrame(annotations['shapes'])\n",
    "    chunk_number=0\n",
    "\n",
    "    for chunk_n in range((shapes.frame.max() // chunk_size) + 1):\n",
    "        start_chunk = chunk_n * chunk_size\n",
    "        chunk_shapes = shapes[(shapes.frame >= start_chunk) & (shapes.frame < start_chunk+chunk_size)]\n",
    "\n",
    "        if len(chunk_shapes) > 0:\n",
    "            data=get_request(session,'tasks/%s/data' % task_id, 'type=chunk&number=%s&quality=original' % chunk_number)\n",
    "            zipfile= ZipFile(BytesIO(data.content))\n",
    "            zipfile.extractall(dir_path)\n",
    "\n",
    "            for frame in chunk_shapes.frame.unique():\n",
    "                filename = '%s.jpg' % str(1000000 + (frame-start_chunk))[1:]   \n",
    "                m = hashlib.md5()\n",
    "\n",
    "                for line in open(dir_path.joinpath(filename), 'rb'):\n",
    "                    m.update(line)\n",
    "\n",
    "                new_filename = ('%s.%s' % (m.hexdigest(), filename.split('.')[-1]))\n",
    "                shapes.loc[shapes['frame']==frame,'md5']=m.hexdigest()\n",
    "                shutil.move(dir_path.joinpath(filename),train_path.joinpath(new_filename))\n",
    "\n",
    "shutil.rmtree(dir_path)"
   ]
  },
  {
   "cell_type": "code",
   "execution_count": 64,
   "metadata": {},
   "outputs": [],
   "source": [
    "shapes[['points','md5']].to_csv(train_path.joinpath('data.csv'),index=False)"
   ]
  }
 ],
 "metadata": {
  "interpreter": {
   "hash": "916dbcbb3f70747c44a77c7bcd40155683ae19c65e1c03b4aa3499c5328201f1"
  },
  "kernelspec": {
   "display_name": "Python 3.8.10 64-bit",
   "language": "python",
   "name": "python3"
  },
  "language_info": {
   "codemirror_mode": {
    "name": "ipython",
    "version": 3
   },
   "file_extension": ".py",
   "mimetype": "text/x-python",
   "name": "python",
   "nbconvert_exporter": "python",
   "pygments_lexer": "ipython3",
   "version": "3.8.10"
  },
  "orig_nbformat": 4
 },
 "nbformat": 4,
 "nbformat_minor": 2
}
