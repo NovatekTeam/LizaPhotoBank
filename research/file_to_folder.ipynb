{
 "cells": [
  {
   "cell_type": "code",
   "execution_count": 14,
   "metadata": {},
   "outputs": [],
   "source": [
    "import os\n",
    "import pandas as pd\n",
    "import shutil"
   ]
  },
  {
   "cell_type": "code",
   "execution_count": 26,
   "metadata": {},
   "outputs": [],
   "source": [
    "folders = ('day', 'night', 'up_down', 'no_day',\n",
    "           'winter', 'spring', 'summer', 'autumn', 'no_season'\n",
    "           'forest', 'city', 'no_location',\n",
    "           'aero', 'auto', 'drons', 'swimmer', 'dogman', 'horse', 'hug', 'sherp')\n",
    "root_f = r'/data_new/Projects/LizaPhotoBank/dataset'\n",
    "ds_catalog = r'/data/images/LizaNew'\n",
    "files = os.listdir(ds_catalog)"
   ]
  },
  {
   "cell_type": "code",
   "execution_count": 27,
   "metadata": {},
   "outputs": [],
   "source": [
    "df = pd.read_excel(r'/data_new/Projects/Liza/ИИ_фотобанк_для_поискового_отряда/razm.xlsx')"
   ]
  },
  {
   "cell_type": "code",
   "execution_count": 12,
   "metadata": {},
   "outputs": [],
   "source": [
    "for folder in folders:\n",
    "    path_folder = os.path.join(root_f, folder)\n",
    "    os.mkdir(path_folder)"
   ]
  },
  {
   "cell_type": "code",
   "execution_count": 28,
   "metadata": {},
   "outputs": [],
   "source": [
    "for i in range(0, df.size-1):\n",
    "    try:\n",
    "        try:\n",
    "            try:\n",
    "                file = os.path.join(ds_catalog, df['Названия'][i])\n",
    "                # if df['Время суток'][i] == 0:\n",
    "                    # shutil.copyfile(file, os.path.join(root_f, 'no_day', df['Названия'][i]))\n",
    "                if df['Время суток'][i] == 1:\n",
    "                    shutil.copyfile(file, os.path.join(root_f, 'daily', 'day', df['Названия'][i]))\n",
    "                elif df['Время суток'][i] == 2:\n",
    "                    shutil.copyfile(file, os.path.join(root_f, 'daily', 'night', df['Названия'][i]))\n",
    "                elif df['Время суток'][i] == 3:\n",
    "                    shutil.copyfile(file, os.path.join(root_f, 'daily', 'up_down', df['Названия'][i]))\n",
    "                \n",
    "                # if df['Время года'][i] == 0:\n",
    "                    # shutil.copyfile(file, os.path.join(root_f, 'no_season', df['Названия'][i]))\n",
    "                if df['Время года'][i] == 1:\n",
    "                    shutil.copyfile(file, os.path.join(root_f, 'season', 'winter', df['Названия'][i]))\n",
    "                elif df['Время года'][i] == 2:\n",
    "                    shutil.copyfile(file, os.path.join(root_f, 'season', 'spring', df['Названия'][i]))\n",
    "                elif df['Время года'][i] == 3:\n",
    "                    shutil.copyfile(file, os.path.join(root_f, 'season', 'summer', df['Названия'][i])) \n",
    "                elif df['Время года'][i] == 4:\n",
    "                    shutil.copyfile(file, os.path.join(root_f, 'season', 'autumn', df['Названия'][i])) \n",
    "                \n",
    "                # if df['Местность'][i] == 0:\n",
    "                    # shutil.copyfile(file, os.path.join(root_f, 'no_location', df['Названия'][i]))\n",
    "                if df['Местность'][i] == 1:\n",
    "                    shutil.copyfile(file, os.path.join(root_f, 'location', 'forest', df['Названия'][i]))\n",
    "                elif df['Местность'][i] == 2:\n",
    "                    shutil.copyfile(file, os.path.join(root_f, 'location', 'city', df['Названия'][i]))\n",
    "                \n",
    "            except FileNotFoundError as e:\n",
    "                pass\n",
    "        except ValueError as ve:\n",
    "            pass\n",
    "    except KeyError as ke:\n",
    "        pass    "
   ]
  },
  {
   "cell_type": "code",
   "execution_count": null,
   "metadata": {},
   "outputs": [],
   "source": [
    "\n",
    "        # if df['Авиа'][i] == 1:\n",
    "        #     shutil.copyfile(file, os.path.join(root_f, 'aero', df['Названия'][i]))\n",
    "\n",
    "        # if df['Автомобили'][i] == 1:\n",
    "        #     shutil.copyfile(file, os.path.join(root_f, 'auto', df['Названия'][i]))   \n",
    "            \n",
    "        # if df['БПЛА'][i] == 1:\n",
    "        #     shutil.copyfile(file, os.path.join(root_f, 'drons', df['Названия'][i])) \n",
    "            \n",
    "        # if df['Водолаз'][i] == 1:\n",
    "        #     shutil.copyfile(file, os.path.join(root_f, 'swimmer', df['Названия'][i]))    \n",
    "            \n",
    "        # if df['Кинолог'][i] == 1:\n",
    "        #     shutil.copyfile(file, os.path.join(root_f, 'dogman', df['Названия'][i]))    \n",
    "        \n",
    "        # if df['Кони'][i] == 1:\n",
    "        #     shutil.copyfile(file, os.path.join(root_f, 'horse', df['Названия'][i]))   \n",
    "            \n",
    "        # if df['Объятия'][i] == 1:\n",
    "        #     shutil.copyfile(file, os.path.join(root_f, 'hug', df['Названия'][i]))  \n",
    "\n",
    "        # if df['Шерп'][i] == 1:\n",
    "        #     shutil.copyfile(file, os.path.join(root_f, 'sherp', df['Названия'][i]))  "
   ]
  }
 ],
 "metadata": {
  "interpreter": {
   "hash": "31f2aee4e71d21fbe5cf8b01ff0e069b9275f58929596ceb00d14d90e3e16cd6"
  },
  "kernelspec": {
   "display_name": "Python 3.8.10 64-bit",
   "language": "python",
   "name": "python3"
  },
  "language_info": {
   "codemirror_mode": {
    "name": "ipython",
    "version": 3
   },
   "file_extension": ".py",
   "mimetype": "text/x-python",
   "name": "python",
   "nbconvert_exporter": "python",
   "pygments_lexer": "ipython3",
   "version": "3.8.10"
  },
  "orig_nbformat": 4
 },
 "nbformat": 4,
 "nbformat_minor": 2
}
